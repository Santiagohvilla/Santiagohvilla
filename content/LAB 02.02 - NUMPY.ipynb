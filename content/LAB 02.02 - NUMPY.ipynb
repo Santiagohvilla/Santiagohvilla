{
  "cells": [
    {
      "cell_type": "markdown",
      "metadata": {
        "id": "I1zEXwLligEq"
      },
      "source": [
        "# LAB 02.02 - Numpy"
      ]
    },
    {
      "cell_type": "code",
      "execution_count": 1,
      "metadata": {
        "colab": {
          "base_uri": "https://localhost:8080/",
          "height": 75
        },
        "id": "gxYKJO1wigEs",
        "outputId": "d2c054b7-f9f9-495c-b79e-a2deb9a77b71"
      },
      "outputs": [
        {
          "output_type": "display_data",
          "data": {
            "text/plain": [
              "<IPython.core.display.HTML object>"
            ],
            "text/html": [
              "\n",
              "<meta name=\"google-signin-client_id\"\n",
              "      content=\"461673936472-kdjosv61up3ac1ajeuq6qqu72upilmls.apps.googleusercontent.com\"/>\n",
              "<script src=\"https://apis.google.com/js/client:platform.js?onload=google_button_start\"></script>\n",
              "    "
            ]
          },
          "metadata": {}
        },
        {
          "output_type": "stream",
          "name": "stdout",
          "text": [
            "replicating local resources\n"
          ]
        },
        {
          "output_type": "execute_result",
          "data": {
            "text/plain": [
              "<IPython.core.display.HTML object>"
            ],
            "text/html": [
              "<h3>See <a href='https://m5knaekxo6.execute-api.us-west-2.amazonaws.com/dev-v0001/rlxmooc/web/login' target='_blank'>my courses and progress</a></h2>"
            ]
          },
          "metadata": {},
          "execution_count": 1
        }
      ],
      "source": [
        "!wget --no-cache -O init.py -q https://raw.githubusercontent.com/rramosp/ai4eng.v1/main/content/init.py\n",
        "import init; init.init(force_download=False); init.get_weblink()\n"
      ]
    },
    {
      "cell_type": "code",
      "execution_count": 4,
      "metadata": {
        "colab": {
          "base_uri": "https://localhost:8080/",
          "height": 74,
          "referenced_widgets": [
            "f7e91ccc541f4411bd1127d1422f0090",
            "1e1cabdc78bd480aa78b803ac63a230c",
            "e316c41ed14142ceb0d22e3f6bf4f7c4",
            "c7b162b01b0b46a1bdd262496cec6356",
            "480a76c670d64cf19d40ce0b4ef19e28",
            "f9868e3686ca4b7487ed530af2939fe8",
            "37dc336e077442f9a26ab8103a899544",
            "c27c71fa5320409dbede46277578ef59",
            "fcc310abe6d443ecb69b7baa2b1a2fcd",
            "01bea0a48f6748fc9c0d2707ecd4684d",
            "059bac8fda134f6693ca02f4e99349e6",
            "26db12420aad4852a723565a51dd99f5",
            "d6ebde88e15149a9b4b312c601b3550a",
            "82173bb0a5f74a6cb9955aa1025c4de7",
            "d334bbd5c0134f5489707952cdabf83a",
            "29250345ca7d42cfb5e1b3c5cd354682",
            "eb0f8e83496a40cb919cd978406b53b4",
            "6b464dff912f4d9a90746404844d0073",
            "81da6239897943b39d384c904819abfa"
          ]
        },
        "id": "WsBRByWiigEv",
        "outputId": "991e9828-40bd-4a85-e028-1da214493c30"
      },
      "outputs": [
        {
          "output_type": "stream",
          "name": "stdout",
          "text": [
            "logging in as santiago.herrera6@udea.edu.co... please wait\n",
            "you are registered in the following sessions of this course\n",
            "\n",
            "     ['2025.2', 'open']\n",
            "\n",
            "and you have explicitly requested session '2025.2'.\n",
            "your grades will be reported in that session\n",
            "\n",
            "-------------\n",
            "using course session ai4eng.v1.udea.r3::2025.2\n",
            "success!! you are logged in\n",
            "-------------\n"
          ]
        }
      ],
      "source": [
        "from local.lib.rlxmoocapi import submit, session\n",
        "session.LoginSequence(endpoint=init.endpoint, session_id='2025.2', course_id=init.course_id,  lab_id=\"L02.02\", varname=\"student\");"
      ]
    },
    {
      "cell_type": "code",
      "execution_count": 7,
      "metadata": {
        "id": "dWtobOxVigEv"
      },
      "outputs": [],
      "source": [
        "import numpy as np"
      ]
    },
    {
      "cell_type": "markdown",
      "metadata": {
        "id": "OK4eYqlnigEw"
      },
      "source": [
        "## Task 1: Cauchy Matrix\n",
        "\n",
        "\n",
        "Given two vectors (1D `numpy` arrays), $x$ and $y$, build the Cauchy Matrix:\n",
        "\n",
        "\n",
        "$$C_{ij}=\\:\\: \\frac{1}{x_i-y_j}$$\n",
        "\n",
        "See https://en.wikipedia.org/wiki/Cauchy_matrix, the elements of the matrix are the results of substracting the correpsonding positions in the $x$ and $y$ vectors where the rows correspond to $x$ and the columns to $y$.\n",
        "\n",
        "**NOTE**: if there is any division by zero, you must raise a `ValueError` exception.\n",
        "\n",
        "**HINT**: create a matrix with zeros with the desired output shape, use broadcasting of $x$ as row vector, and then broadcasting of $y$ as column vector with `reshape(-1,1)`\n",
        "\n",
        "**CHALLENGE**: build a function with maximum four lines of code, including checking for zeros and raising the exception.\n",
        "\n",
        "**Execution example**\n",
        "\n",
        "```python\n",
        ">> x = np.array([45, 31, 67, 75, 54])\n",
        ">> y = np.array([17,  7, 15, 15, 18])\n",
        ">> cauchy(c,y)\n",
        "array([[0.03571429, 0.02631579, 0.03333333, 0.03333333, 0.03703704],\n",
        "       [0.07142857, 0.04166667, 0.0625    , 0.0625    , 0.07692308],\n",
        "       [0.02      , 0.01666667, 0.01923077, 0.01923077, 0.02040816],\n",
        "       [0.01724138, 0.01470588, 0.01666667, 0.01666667, 0.01754386],\n",
        "       [0.02702703, 0.0212766 , 0.02564103, 0.02564103, 0.02777778]])\n",
        "```"
      ]
    },
    {
      "cell_type": "code",
      "execution_count": 17,
      "metadata": {
        "id": "_NozbX8figEw"
      },
      "outputs": [],
      "source": [
        "def cauchy(x, y):\n",
        "\n",
        "    r = np.zeros((len(x), len(y)))\n",
        "    for i in range(len(x)):\n",
        "        for j in range(len(y)):\n",
        "            if (x[i] - y[j]) == 0:\n",
        "                raise ValueError\n",
        "            else:\n",
        "                r[i,j] = 1/(x[i] - y[j])\n",
        "\n",
        "    return r"
      ]
    },
    {
      "cell_type": "markdown",
      "metadata": {
        "id": "dhzOoKF-igEx"
      },
      "source": [
        "**check your code manually**"
      ]
    },
    {
      "cell_type": "code",
      "execution_count": 18,
      "metadata": {
        "colab": {
          "base_uri": "https://localhost:8080/"
        },
        "id": "W-YN9fZzigEx",
        "outputId": "344d8cc2-c8d4-468b-ded8-aece62b0abf9"
      },
      "outputs": [
        {
          "output_type": "execute_result",
          "data": {
            "text/plain": [
              "array([[0.03571429, 0.02631579, 0.03333333, 0.03333333, 0.03703704],\n",
              "       [0.07142857, 0.04166667, 0.0625    , 0.0625    , 0.07692308],\n",
              "       [0.02      , 0.01666667, 0.01923077, 0.01923077, 0.02040816],\n",
              "       [0.01724138, 0.01470588, 0.01666667, 0.01666667, 0.01754386],\n",
              "       [0.02702703, 0.0212766 , 0.02564103, 0.02564103, 0.02777778]])"
            ]
          },
          "metadata": {},
          "execution_count": 18
        }
      ],
      "source": [
        "x = np.array([45, 31, 67, 75, 54])\n",
        "y = np.array([17,  7, 15, 15, 18])\n",
        "cauchy(x,y)"
      ]
    },
    {
      "cell_type": "markdown",
      "metadata": {
        "id": "9jOWPD4FigEx"
      },
      "source": [
        "this execution should raise a `ValueError` exception"
      ]
    },
    {
      "cell_type": "code",
      "execution_count": 19,
      "metadata": {
        "colab": {
          "base_uri": "https://localhost:8080/",
          "height": 297
        },
        "id": "cWoYEcDYigEx",
        "outputId": "e3f79be8-0918-4d12-e782-a198c3ed932c"
      },
      "outputs": [
        {
          "output_type": "error",
          "ename": "ValueError",
          "evalue": "",
          "traceback": [
            "\u001b[0;31m---------------------------------------------------------------------------\u001b[0m",
            "\u001b[0;31mValueError\u001b[0m                                Traceback (most recent call last)",
            "\u001b[0;32m/tmp/ipython-input-3921754296.py\u001b[0m in \u001b[0;36m<cell line: 0>\u001b[0;34m()\u001b[0m\n\u001b[1;32m      1\u001b[0m \u001b[0mx\u001b[0m \u001b[0;34m=\u001b[0m \u001b[0mnp\u001b[0m\u001b[0;34m.\u001b[0m\u001b[0marray\u001b[0m\u001b[0;34m(\u001b[0m\u001b[0;34m[\u001b[0m\u001b[0;36m45\u001b[0m\u001b[0;34m,\u001b[0m \u001b[0;36m31\u001b[0m\u001b[0;34m,\u001b[0m \u001b[0;36m67\u001b[0m\u001b[0;34m,\u001b[0m \u001b[0;36m75\u001b[0m\u001b[0;34m,\u001b[0m \u001b[0;36m54\u001b[0m\u001b[0;34m]\u001b[0m\u001b[0;34m)\u001b[0m\u001b[0;34m\u001b[0m\u001b[0;34m\u001b[0m\u001b[0m\n\u001b[1;32m      2\u001b[0m \u001b[0my\u001b[0m \u001b[0;34m=\u001b[0m \u001b[0mnp\u001b[0m\u001b[0;34m.\u001b[0m\u001b[0marray\u001b[0m\u001b[0;34m(\u001b[0m\u001b[0;34m[\u001b[0m\u001b[0;36m17\u001b[0m\u001b[0;34m,\u001b[0m  \u001b[0;36m7\u001b[0m\u001b[0;34m,\u001b[0m \u001b[0;36m15\u001b[0m\u001b[0;34m,\u001b[0m \u001b[0;36m75\u001b[0m\u001b[0;34m,\u001b[0m \u001b[0;36m18\u001b[0m\u001b[0;34m]\u001b[0m\u001b[0;34m)\u001b[0m\u001b[0;34m\u001b[0m\u001b[0;34m\u001b[0m\u001b[0m\n\u001b[0;32m----> 3\u001b[0;31m \u001b[0mcauchy\u001b[0m\u001b[0;34m(\u001b[0m\u001b[0mx\u001b[0m\u001b[0;34m,\u001b[0m\u001b[0my\u001b[0m\u001b[0;34m)\u001b[0m\u001b[0;34m\u001b[0m\u001b[0;34m\u001b[0m\u001b[0m\n\u001b[0m",
            "\u001b[0;32m/tmp/ipython-input-1871319884.py\u001b[0m in \u001b[0;36mcauchy\u001b[0;34m(x, y)\u001b[0m\n\u001b[1;32m      5\u001b[0m         \u001b[0;32mfor\u001b[0m \u001b[0mj\u001b[0m \u001b[0;32min\u001b[0m \u001b[0mrange\u001b[0m\u001b[0;34m(\u001b[0m\u001b[0mlen\u001b[0m\u001b[0;34m(\u001b[0m\u001b[0my\u001b[0m\u001b[0;34m)\u001b[0m\u001b[0;34m)\u001b[0m\u001b[0;34m:\u001b[0m\u001b[0;34m\u001b[0m\u001b[0;34m\u001b[0m\u001b[0m\n\u001b[1;32m      6\u001b[0m             \u001b[0;32mif\u001b[0m \u001b[0;34m(\u001b[0m\u001b[0mx\u001b[0m\u001b[0;34m[\u001b[0m\u001b[0mi\u001b[0m\u001b[0;34m]\u001b[0m \u001b[0;34m-\u001b[0m \u001b[0my\u001b[0m\u001b[0;34m[\u001b[0m\u001b[0mj\u001b[0m\u001b[0;34m]\u001b[0m\u001b[0;34m)\u001b[0m \u001b[0;34m==\u001b[0m \u001b[0;36m0\u001b[0m\u001b[0;34m:\u001b[0m\u001b[0;34m\u001b[0m\u001b[0;34m\u001b[0m\u001b[0m\n\u001b[0;32m----> 7\u001b[0;31m                 \u001b[0;32mraise\u001b[0m \u001b[0mValueError\u001b[0m\u001b[0;34m\u001b[0m\u001b[0;34m\u001b[0m\u001b[0m\n\u001b[0m\u001b[1;32m      8\u001b[0m             \u001b[0;32melse\u001b[0m\u001b[0;34m:\u001b[0m\u001b[0;34m\u001b[0m\u001b[0;34m\u001b[0m\u001b[0m\n\u001b[1;32m      9\u001b[0m                 \u001b[0mr\u001b[0m\u001b[0;34m[\u001b[0m\u001b[0mi\u001b[0m\u001b[0;34m,\u001b[0m\u001b[0mj\u001b[0m\u001b[0;34m]\u001b[0m \u001b[0;34m=\u001b[0m \u001b[0;36m1\u001b[0m\u001b[0;34m/\u001b[0m\u001b[0;34m(\u001b[0m\u001b[0mx\u001b[0m\u001b[0;34m[\u001b[0m\u001b[0mi\u001b[0m\u001b[0;34m]\u001b[0m \u001b[0;34m-\u001b[0m \u001b[0my\u001b[0m\u001b[0;34m[\u001b[0m\u001b[0mj\u001b[0m\u001b[0;34m]\u001b[0m\u001b[0;34m)\u001b[0m\u001b[0;34m\u001b[0m\u001b[0;34m\u001b[0m\u001b[0m\n",
            "\u001b[0;31mValueError\u001b[0m: "
          ]
        }
      ],
      "source": [
        "x = np.array([45, 31, 67, 75, 54])\n",
        "y = np.array([17,  7, 15, 75, 18])\n",
        "cauchy(x,y)"
      ]
    },
    {
      "cell_type": "code",
      "execution_count": null,
      "metadata": {
        "id": "FkC7_g6kigEy"
      },
      "outputs": [],
      "source": []
    },
    {
      "cell_type": "code",
      "execution_count": null,
      "metadata": {
        "id": "7HVBS9QqigEy"
      },
      "outputs": [],
      "source": []
    },
    {
      "cell_type": "markdown",
      "metadata": {
        "id": "hC5lLsGEigEy"
      },
      "source": [
        "**submit your code**"
      ]
    },
    {
      "cell_type": "code",
      "execution_count": 20,
      "metadata": {
        "scrolled": true,
        "colab": {
          "base_uri": "https://localhost:8080/",
          "height": 128
        },
        "id": "EvqgyBT9igEy",
        "outputId": "e882e3fd-ea25-4b28-a937-b4d895886108"
      },
      "outputs": [
        {
          "output_type": "display_data",
          "data": {
            "text/plain": [
              "<IPython.core.display.HTML object>"
            ],
            "text/html": [
              "\n",
              "                    <b>task_01 submitted.</b> <b><font color=\"blue\">your grade is 5</font></b> \n",
              "                    <p/><pre>----- grader message -------</pre>testing with 100 random calls<br/><b>correct</b><pre>----------------------------</pre>\n",
              "                    <p/><p/>\n",
              "                    <div style=\"font-size:10px\"><b>SUBMISSION CODE</b> WdqMjB6oDUWW5VEZl+iGi44wigflEyLvZeXZJcvmmMPDrsZKoxE5VD16csgunWwQ4WGSH/5Yp42fCfNlfwWNwj6OzHUP+u5wsM/jJWxif1ZM1uHBNGi4TSYRfkuA3CTh9XGxmuoi0ysjneXzbbwaAwn0qbNGxafzIqR2JjjSalk=</div>\n",
              "                    "
            ]
          },
          "metadata": {}
        }
      ],
      "source": [
        "student.submit_task(globals(), task_id=\"task_01\");"
      ]
    },
    {
      "cell_type": "markdown",
      "metadata": {
        "id": "T37Sh-EnigEz"
      },
      "source": [
        "## Task 2: Position of closest scalar\n",
        "\n",
        "Given a 1D vector $x$, find the position of the closest element to $v$\n",
        "\n",
        "\n",
        "**Execution example**:\n",
        "\n",
        "```python\n",
        ">> x=np.arange(25,55,3)\n",
        ">> minimo(x,34)\n",
        "3\n",
        "```\n",
        "\n",
        "**HINT**: use [`np.argmin`](https://docs.scipy.org/doc/numpy/reference/generated/numpy.argmin.html)\n",
        "\n",
        "**CHALLENGE**: solve it with one line of code"
      ]
    },
    {
      "cell_type": "code",
      "execution_count": null,
      "metadata": {
        "id": "GMJ7aEUEigEz"
      },
      "outputs": [],
      "source": [
        "def minimo(x,v):\n",
        "    return ... # your code here"
      ]
    },
    {
      "cell_type": "markdown",
      "metadata": {
        "id": "C3EYRx2OigEz"
      },
      "source": [
        "**check manually your code**"
      ]
    },
    {
      "cell_type": "code",
      "execution_count": null,
      "metadata": {
        "id": "nqkEi2l-igE0"
      },
      "outputs": [],
      "source": [
        "x = np.arange(25,55,3)\n",
        "v = 34\n",
        "minimo(x,v)"
      ]
    },
    {
      "cell_type": "markdown",
      "metadata": {
        "id": "Pjome7INigE0"
      },
      "source": [
        "**submit your code**"
      ]
    },
    {
      "cell_type": "code",
      "execution_count": null,
      "metadata": {
        "scrolled": true,
        "id": "kCRMd92iigE0"
      },
      "outputs": [],
      "source": [
        "student.submit_task(globals(), task_id=\"task_02\");"
      ]
    },
    {
      "cell_type": "markdown",
      "metadata": {
        "id": "7nJnv2EhigE0"
      },
      "source": [
        "## Task 3: Substracting row mean\n",
        "\n",
        "Given a matrix, your function must return a new one with the same dimensions in which each component is substracted the mean of its own row.\n",
        "\n",
        "\n",
        "**Execution example**\n",
        "```python\n",
        ">> X = np.array([[1, 2, 3], [4, 5, 6],[7,8,9]])\n",
        ">> media(X)\n",
        "array([[-1.,  0.,  1.],\n",
        "       [-1.,  0.,  1.],\n",
        "       [-1.,  0.,  1.]])\n",
        "```\n",
        "\n",
        "**HINT**: use broadcasting\n",
        "\n",
        "**CHALLENGE**: solve it with one line of code"
      ]
    },
    {
      "cell_type": "code",
      "execution_count": null,
      "metadata": {
        "id": "Z4tPhT2uigE0"
      },
      "outputs": [],
      "source": [
        "def media(X):\n",
        "    return ... # your code here"
      ]
    },
    {
      "cell_type": "markdown",
      "metadata": {
        "id": "jQjOysHjigE1"
      },
      "source": [
        "**check your code manually**"
      ]
    },
    {
      "cell_type": "code",
      "execution_count": null,
      "metadata": {
        "id": "DtYnZVKligE1"
      },
      "outputs": [],
      "source": [
        "X = np.array([[1, 2, 3], [4, 5, 6],[7,8,9]])\n",
        "media(X)"
      ]
    },
    {
      "cell_type": "markdown",
      "metadata": {
        "id": "9Bha5RSsigE1"
      },
      "source": [
        "**submit your code**"
      ]
    },
    {
      "cell_type": "code",
      "execution_count": null,
      "metadata": {
        "scrolled": false,
        "id": "3DVeO894igE1"
      },
      "outputs": [],
      "source": [
        "student.submit_task(globals(), task_id=\"task_03\");"
      ]
    },
    {
      "cell_type": "markdown",
      "metadata": {
        "id": "ikFC862qigE1"
      },
      "source": [
        "## Task 4: Double the diagonal\n",
        "\n",
        "Complete the following function such that it returns the same matrix received in $X$ but with its diagonal multiplied by 2. Assume $X$ is a square matrix (with the same number of rows and columns).\n",
        "\n",
        "**Execution example**\n",
        "\n",
        "```python\n",
        ">> X = np.array([[79, 45, 67,  8, 37],\n",
        ">>               [47, 40,  5, 79, 86],\n",
        ">>               [72, 25, 44, 45, 22],\n",
        ">>               [12, 85,  8, 53, 28],\n",
        ">>               [ 4, 37, 36, 40, 16]])\n",
        ">>\n",
        ">> doublediag(X)\n",
        "\n",
        "array([[158.,  45.,  67.,   8.,  37.],\n",
        "       [ 47.,  80.,   5.,  79.,  86.],\n",
        "       [ 72.,  25.,  88.,  45.,  22.],\n",
        "       [ 12.,  85.,   8., 106.,  28.],\n",
        "       [  4.,  37.,  36.,  40.,  32.]])\n",
        "```\n",
        "\n",
        "**HINT**: use [`np.eye`](https://docs.scipy.org/doc/numpy/reference/generated/numpy.eye.html)\n",
        "\n",
        "**CHALLENGE**: solve with one line of code"
      ]
    },
    {
      "cell_type": "code",
      "execution_count": null,
      "metadata": {
        "id": "jWUknZRKigE2"
      },
      "outputs": [],
      "source": [
        "def doublediag(X):\n",
        "    return ... # your code here"
      ]
    },
    {
      "cell_type": "markdown",
      "metadata": {
        "id": "kDtRZVJUigE2"
      },
      "source": [
        "**check manually your code**"
      ]
    },
    {
      "cell_type": "code",
      "execution_count": null,
      "metadata": {
        "id": "gkyE6rWHigE2"
      },
      "outputs": [],
      "source": [
        "X = np.array([[79, 45, 67,  8, 37],\n",
        "              [47, 40,  5, 79, 86],\n",
        "              [72, 25, 44, 45, 22],\n",
        "              [12, 85,  8, 53, 28],\n",
        "              [ 4, 37, 36, 40, 16]])\n",
        "doublediag(X)"
      ]
    },
    {
      "cell_type": "markdown",
      "metadata": {
        "id": "Mq4axzIPigE2"
      },
      "source": [
        "**submit your code**"
      ]
    },
    {
      "cell_type": "code",
      "execution_count": null,
      "metadata": {
        "scrolled": true,
        "id": "XdISJIZJigE2"
      },
      "outputs": [],
      "source": [
        "student.submit_task(globals(), task_id=\"task_04\");"
      ]
    },
    {
      "cell_type": "code",
      "execution_count": null,
      "metadata": {
        "id": "_IpwGzl4igE3"
      },
      "outputs": [],
      "source": []
    }
  ],
  "metadata": {
    "kernelspec": {
      "display_name": "Python 3",
      "language": "python",
      "name": "python3"
    },
    "language_info": {
      "codemirror_mode": {
        "name": "ipython",
        "version": 3
      },
      "file_extension": ".py",
      "mimetype": "text/x-python",
      "name": "python",
      "nbconvert_exporter": "python",
      "pygments_lexer": "ipython3",
      "version": "3.7.3"
    },
    "colab": {
      "provenance": []
    },
    "widgets": {
      "application/vnd.jupyter.widget-state+json": {
        "f7e91ccc541f4411bd1127d1422f0090": {
          "model_module": "@jupyter-widgets/controls",
          "model_name": "HBoxModel",
          "model_module_version": "1.5.0",
          "state": {
            "_dom_classes": [],
            "_model_module": "@jupyter-widgets/controls",
            "_model_module_version": "1.5.0",
            "_model_name": "HBoxModel",
            "_view_count": null,
            "_view_module": "@jupyter-widgets/controls",
            "_view_module_version": "1.5.0",
            "_view_name": "HBoxView",
            "box_style": "",
            "children": [
              "IPY_MODEL_1e1cabdc78bd480aa78b803ac63a230c",
              "IPY_MODEL_e316c41ed14142ceb0d22e3f6bf4f7c4",
              "IPY_MODEL_c7b162b01b0b46a1bdd262496cec6356",
              "IPY_MODEL_480a76c670d64cf19d40ce0b4ef19e28"
            ],
            "layout": "IPY_MODEL_f9868e3686ca4b7487ed530af2939fe8"
          }
        },
        "1e1cabdc78bd480aa78b803ac63a230c": {
          "model_module": "@jupyter-widgets/controls",
          "model_name": "VBoxModel",
          "model_module_version": "1.5.0",
          "state": {
            "_dom_classes": [],
            "_model_module": "@jupyter-widgets/controls",
            "_model_module_version": "1.5.0",
            "_model_name": "VBoxModel",
            "_view_count": null,
            "_view_module": "@jupyter-widgets/controls",
            "_view_module_version": "1.5.0",
            "_view_name": "VBoxView",
            "box_style": "",
            "children": [
              "IPY_MODEL_37dc336e077442f9a26ab8103a899544",
              "IPY_MODEL_c27c71fa5320409dbede46277578ef59"
            ],
            "layout": "IPY_MODEL_fcc310abe6d443ecb69b7baa2b1a2fcd"
          }
        },
        "e316c41ed14142ceb0d22e3f6bf4f7c4": {
          "model_module": "@jupyter-widgets/controls",
          "model_name": "ButtonModel",
          "model_module_version": "1.5.0",
          "state": {
            "_dom_classes": [
              "login_button"
            ],
            "_model_module": "@jupyter-widgets/controls",
            "_model_module_version": "1.5.0",
            "_model_name": "ButtonModel",
            "_view_count": null,
            "_view_module": "@jupyter-widgets/controls",
            "_view_module_version": "1.5.0",
            "_view_name": "ButtonView",
            "button_style": "",
            "description": "Login with email",
            "disabled": false,
            "icon": "",
            "layout": "IPY_MODEL_01bea0a48f6748fc9c0d2707ecd4684d",
            "style": "IPY_MODEL_059bac8fda134f6693ca02f4e99349e6",
            "tooltip": ""
          }
        },
        "c7b162b01b0b46a1bdd262496cec6356": {
          "model_module": "@jupyter-widgets/controls",
          "model_name": "HTMLModel",
          "model_module_version": "1.5.0",
          "state": {
            "_dom_classes": [],
            "_model_module": "@jupyter-widgets/controls",
            "_model_module_version": "1.5.0",
            "_model_name": "HTMLModel",
            "_view_count": null,
            "_view_module": "@jupyter-widgets/controls",
            "_view_module_version": "1.5.0",
            "_view_name": "HTMLView",
            "description": "",
            "description_tooltip": null,
            "layout": "IPY_MODEL_26db12420aad4852a723565a51dd99f5",
            "placeholder": "​",
            "style": "IPY_MODEL_d6ebde88e15149a9b4b312c601b3550a",
            "value": "<center><big>or</big></center>"
          }
        },
        "480a76c670d64cf19d40ce0b4ef19e28": {
          "model_module": "@jupyter-widgets/controls",
          "model_name": "ButtonModel",
          "model_module_version": "1.5.0",
          "state": {
            "_dom_classes": [
              "google_button"
            ],
            "_model_module": "@jupyter-widgets/controls",
            "_model_module_version": "1.5.0",
            "_model_name": "ButtonModel",
            "_view_count": null,
            "_view_module": "@jupyter-widgets/controls",
            "_view_module_version": "1.5.0",
            "_view_name": "ButtonView",
            "button_style": "",
            "description": "Login with Google",
            "disabled": false,
            "icon": "",
            "layout": "IPY_MODEL_82173bb0a5f74a6cb9955aa1025c4de7",
            "style": "IPY_MODEL_d334bbd5c0134f5489707952cdabf83a",
            "tooltip": ""
          }
        },
        "f9868e3686ca4b7487ed530af2939fe8": {
          "model_module": "@jupyter-widgets/base",
          "model_name": "LayoutModel",
          "model_module_version": "1.2.0",
          "state": {
            "_model_module": "@jupyter-widgets/base",
            "_model_module_version": "1.2.0",
            "_model_name": "LayoutModel",
            "_view_count": null,
            "_view_module": "@jupyter-widgets/base",
            "_view_module_version": "1.2.0",
            "_view_name": "LayoutView",
            "align_content": null,
            "align_items": null,
            "align_self": null,
            "border": null,
            "bottom": null,
            "display": null,
            "flex": null,
            "flex_flow": null,
            "grid_area": null,
            "grid_auto_columns": null,
            "grid_auto_flow": null,
            "grid_auto_rows": null,
            "grid_column": null,
            "grid_gap": null,
            "grid_row": null,
            "grid_template_areas": null,
            "grid_template_columns": null,
            "grid_template_rows": null,
            "height": null,
            "justify_content": null,
            "justify_items": null,
            "left": null,
            "margin": null,
            "max_height": null,
            "max_width": null,
            "min_height": null,
            "min_width": null,
            "object_fit": null,
            "object_position": null,
            "order": null,
            "overflow": null,
            "overflow_x": null,
            "overflow_y": null,
            "padding": null,
            "right": null,
            "top": null,
            "visibility": null,
            "width": null
          }
        },
        "37dc336e077442f9a26ab8103a899544": {
          "model_module": "@jupyter-widgets/controls",
          "model_name": "TextModel",
          "model_module_version": "1.5.0",
          "state": {
            "_dom_classes": [],
            "_model_module": "@jupyter-widgets/controls",
            "_model_module_version": "1.5.0",
            "_model_name": "TextModel",
            "_view_count": null,
            "_view_module": "@jupyter-widgets/controls",
            "_view_module_version": "1.5.0",
            "_view_name": "TextView",
            "continuous_update": true,
            "description": "email",
            "description_tooltip": null,
            "disabled": false,
            "layout": "IPY_MODEL_29250345ca7d42cfb5e1b3c5cd354682",
            "placeholder": "​",
            "style": "IPY_MODEL_eb0f8e83496a40cb919cd978406b53b4",
            "value": ""
          }
        },
        "c27c71fa5320409dbede46277578ef59": {
          "model_module": "@jupyter-widgets/controls",
          "model_name": "PasswordModel",
          "model_module_version": "1.5.0",
          "state": {
            "_dom_classes": [],
            "_model_module": "@jupyter-widgets/controls",
            "_model_module_version": "1.5.0",
            "_model_name": "PasswordModel",
            "_view_count": null,
            "_view_module": "@jupyter-widgets/controls",
            "_view_module_version": "1.5.0",
            "_view_name": "PasswordView",
            "continuous_update": true,
            "description": "password",
            "description_tooltip": null,
            "disabled": false,
            "layout": "IPY_MODEL_6b464dff912f4d9a90746404844d0073",
            "placeholder": "​",
            "style": "IPY_MODEL_81da6239897943b39d384c904819abfa",
            "value": ""
          }
        },
        "fcc310abe6d443ecb69b7baa2b1a2fcd": {
          "model_module": "@jupyter-widgets/base",
          "model_name": "LayoutModel",
          "model_module_version": "1.2.0",
          "state": {
            "_model_module": "@jupyter-widgets/base",
            "_model_module_version": "1.2.0",
            "_model_name": "LayoutModel",
            "_view_count": null,
            "_view_module": "@jupyter-widgets/base",
            "_view_module_version": "1.2.0",
            "_view_name": "LayoutView",
            "align_content": null,
            "align_items": null,
            "align_self": null,
            "border": null,
            "bottom": null,
            "display": null,
            "flex": null,
            "flex_flow": null,
            "grid_area": null,
            "grid_auto_columns": null,
            "grid_auto_flow": null,
            "grid_auto_rows": null,
            "grid_column": null,
            "grid_gap": null,
            "grid_row": null,
            "grid_template_areas": null,
            "grid_template_columns": null,
            "grid_template_rows": null,
            "height": null,
            "justify_content": null,
            "justify_items": null,
            "left": null,
            "margin": null,
            "max_height": null,
            "max_width": null,
            "min_height": null,
            "min_width": null,
            "object_fit": null,
            "object_position": null,
            "order": null,
            "overflow": null,
            "overflow_x": null,
            "overflow_y": null,
            "padding": null,
            "right": null,
            "top": null,
            "visibility": null,
            "width": null
          }
        },
        "01bea0a48f6748fc9c0d2707ecd4684d": {
          "model_module": "@jupyter-widgets/base",
          "model_name": "LayoutModel",
          "model_module_version": "1.2.0",
          "state": {
            "_model_module": "@jupyter-widgets/base",
            "_model_module_version": "1.2.0",
            "_model_name": "LayoutModel",
            "_view_count": null,
            "_view_module": "@jupyter-widgets/base",
            "_view_module_version": "1.2.0",
            "_view_name": "LayoutView",
            "align_content": null,
            "align_items": null,
            "align_self": null,
            "border": null,
            "bottom": null,
            "display": null,
            "flex": null,
            "flex_flow": null,
            "grid_area": null,
            "grid_auto_columns": null,
            "grid_auto_flow": null,
            "grid_auto_rows": null,
            "grid_column": null,
            "grid_gap": null,
            "grid_row": null,
            "grid_template_areas": null,
            "grid_template_columns": null,
            "grid_template_rows": null,
            "height": "53px",
            "justify_content": null,
            "justify_items": null,
            "left": null,
            "margin": null,
            "max_height": null,
            "max_width": null,
            "min_height": null,
            "min_width": null,
            "object_fit": null,
            "object_position": null,
            "order": null,
            "overflow": null,
            "overflow_x": null,
            "overflow_y": null,
            "padding": null,
            "right": null,
            "top": null,
            "visibility": null,
            "width": "150px"
          }
        },
        "059bac8fda134f6693ca02f4e99349e6": {
          "model_module": "@jupyter-widgets/controls",
          "model_name": "ButtonStyleModel",
          "model_module_version": "1.5.0",
          "state": {
            "_model_module": "@jupyter-widgets/controls",
            "_model_module_version": "1.5.0",
            "_model_name": "ButtonStyleModel",
            "_view_count": null,
            "_view_module": "@jupyter-widgets/base",
            "_view_module_version": "1.2.0",
            "_view_name": "StyleView",
            "button_color": null,
            "font_weight": ""
          }
        },
        "26db12420aad4852a723565a51dd99f5": {
          "model_module": "@jupyter-widgets/base",
          "model_name": "LayoutModel",
          "model_module_version": "1.2.0",
          "state": {
            "_model_module": "@jupyter-widgets/base",
            "_model_module_version": "1.2.0",
            "_model_name": "LayoutModel",
            "_view_count": null,
            "_view_module": "@jupyter-widgets/base",
            "_view_module_version": "1.2.0",
            "_view_name": "LayoutView",
            "align_content": null,
            "align_items": null,
            "align_self": null,
            "border": null,
            "bottom": null,
            "display": null,
            "flex": null,
            "flex_flow": null,
            "grid_area": null,
            "grid_auto_columns": null,
            "grid_auto_flow": null,
            "grid_auto_rows": null,
            "grid_column": null,
            "grid_gap": null,
            "grid_row": null,
            "grid_template_areas": null,
            "grid_template_columns": null,
            "grid_template_rows": null,
            "height": null,
            "justify_content": null,
            "justify_items": null,
            "left": null,
            "margin": null,
            "max_height": null,
            "max_width": null,
            "min_height": null,
            "min_width": null,
            "object_fit": null,
            "object_position": null,
            "order": null,
            "overflow": null,
            "overflow_x": null,
            "overflow_y": null,
            "padding": null,
            "right": null,
            "top": null,
            "visibility": null,
            "width": "100px"
          }
        },
        "d6ebde88e15149a9b4b312c601b3550a": {
          "model_module": "@jupyter-widgets/controls",
          "model_name": "DescriptionStyleModel",
          "model_module_version": "1.5.0",
          "state": {
            "_model_module": "@jupyter-widgets/controls",
            "_model_module_version": "1.5.0",
            "_model_name": "DescriptionStyleModel",
            "_view_count": null,
            "_view_module": "@jupyter-widgets/base",
            "_view_module_version": "1.2.0",
            "_view_name": "StyleView",
            "description_width": ""
          }
        },
        "82173bb0a5f74a6cb9955aa1025c4de7": {
          "model_module": "@jupyter-widgets/base",
          "model_name": "LayoutModel",
          "model_module_version": "1.2.0",
          "state": {
            "_model_module": "@jupyter-widgets/base",
            "_model_module_version": "1.2.0",
            "_model_name": "LayoutModel",
            "_view_count": null,
            "_view_module": "@jupyter-widgets/base",
            "_view_module_version": "1.2.0",
            "_view_name": "LayoutView",
            "align_content": null,
            "align_items": null,
            "align_self": null,
            "border": null,
            "bottom": null,
            "display": null,
            "flex": null,
            "flex_flow": null,
            "grid_area": null,
            "grid_auto_columns": null,
            "grid_auto_flow": null,
            "grid_auto_rows": null,
            "grid_column": null,
            "grid_gap": null,
            "grid_row": null,
            "grid_template_areas": null,
            "grid_template_columns": null,
            "grid_template_rows": null,
            "height": "53px",
            "justify_content": null,
            "justify_items": null,
            "left": null,
            "margin": null,
            "max_height": null,
            "max_width": null,
            "min_height": null,
            "min_width": null,
            "object_fit": null,
            "object_position": null,
            "order": null,
            "overflow": null,
            "overflow_x": null,
            "overflow_y": null,
            "padding": null,
            "right": null,
            "top": null,
            "visibility": null,
            "width": "200px"
          }
        },
        "d334bbd5c0134f5489707952cdabf83a": {
          "model_module": "@jupyter-widgets/controls",
          "model_name": "ButtonStyleModel",
          "model_module_version": "1.5.0",
          "state": {
            "_model_module": "@jupyter-widgets/controls",
            "_model_module_version": "1.5.0",
            "_model_name": "ButtonStyleModel",
            "_view_count": null,
            "_view_module": "@jupyter-widgets/base",
            "_view_module_version": "1.2.0",
            "_view_name": "StyleView",
            "button_color": null,
            "font_weight": ""
          }
        },
        "29250345ca7d42cfb5e1b3c5cd354682": {
          "model_module": "@jupyter-widgets/base",
          "model_name": "LayoutModel",
          "model_module_version": "1.2.0",
          "state": {
            "_model_module": "@jupyter-widgets/base",
            "_model_module_version": "1.2.0",
            "_model_name": "LayoutModel",
            "_view_count": null,
            "_view_module": "@jupyter-widgets/base",
            "_view_module_version": "1.2.0",
            "_view_name": "LayoutView",
            "align_content": null,
            "align_items": null,
            "align_self": null,
            "border": null,
            "bottom": null,
            "display": null,
            "flex": null,
            "flex_flow": null,
            "grid_area": null,
            "grid_auto_columns": null,
            "grid_auto_flow": null,
            "grid_auto_rows": null,
            "grid_column": null,
            "grid_gap": null,
            "grid_row": null,
            "grid_template_areas": null,
            "grid_template_columns": null,
            "grid_template_rows": null,
            "height": "25px",
            "justify_content": null,
            "justify_items": null,
            "left": null,
            "margin": null,
            "max_height": null,
            "max_width": null,
            "min_height": null,
            "min_width": null,
            "object_fit": null,
            "object_position": null,
            "order": null,
            "overflow": null,
            "overflow_x": null,
            "overflow_y": null,
            "padding": null,
            "right": null,
            "top": null,
            "visibility": null,
            "width": "300px"
          }
        },
        "eb0f8e83496a40cb919cd978406b53b4": {
          "model_module": "@jupyter-widgets/controls",
          "model_name": "DescriptionStyleModel",
          "model_module_version": "1.5.0",
          "state": {
            "_model_module": "@jupyter-widgets/controls",
            "_model_module_version": "1.5.0",
            "_model_name": "DescriptionStyleModel",
            "_view_count": null,
            "_view_module": "@jupyter-widgets/base",
            "_view_module_version": "1.2.0",
            "_view_name": "StyleView",
            "description_width": ""
          }
        },
        "6b464dff912f4d9a90746404844d0073": {
          "model_module": "@jupyter-widgets/base",
          "model_name": "LayoutModel",
          "model_module_version": "1.2.0",
          "state": {
            "_model_module": "@jupyter-widgets/base",
            "_model_module_version": "1.2.0",
            "_model_name": "LayoutModel",
            "_view_count": null,
            "_view_module": "@jupyter-widgets/base",
            "_view_module_version": "1.2.0",
            "_view_name": "LayoutView",
            "align_content": null,
            "align_items": null,
            "align_self": null,
            "border": null,
            "bottom": null,
            "display": null,
            "flex": null,
            "flex_flow": null,
            "grid_area": null,
            "grid_auto_columns": null,
            "grid_auto_flow": null,
            "grid_auto_rows": null,
            "grid_column": null,
            "grid_gap": null,
            "grid_row": null,
            "grid_template_areas": null,
            "grid_template_columns": null,
            "grid_template_rows": null,
            "height": "24px",
            "justify_content": null,
            "justify_items": null,
            "left": null,
            "margin": null,
            "max_height": null,
            "max_width": null,
            "min_height": null,
            "min_width": null,
            "object_fit": null,
            "object_position": null,
            "order": null,
            "overflow": null,
            "overflow_x": null,
            "overflow_y": null,
            "padding": null,
            "right": null,
            "top": null,
            "visibility": null,
            "width": "300px"
          }
        },
        "81da6239897943b39d384c904819abfa": {
          "model_module": "@jupyter-widgets/controls",
          "model_name": "DescriptionStyleModel",
          "model_module_version": "1.5.0",
          "state": {
            "_model_module": "@jupyter-widgets/controls",
            "_model_module_version": "1.5.0",
            "_model_name": "DescriptionStyleModel",
            "_view_count": null,
            "_view_module": "@jupyter-widgets/base",
            "_view_module_version": "1.2.0",
            "_view_name": "StyleView",
            "description_width": ""
          }
        }
      }
    }
  },
  "nbformat": 4,
  "nbformat_minor": 0
}