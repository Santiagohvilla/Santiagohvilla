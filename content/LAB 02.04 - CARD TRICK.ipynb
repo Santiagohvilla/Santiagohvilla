{
  "cells": [
    {
      "cell_type": "markdown",
      "metadata": {
        "id": "jcJ95twswXwZ"
      },
      "source": [
        "# LAB 02.04 - Card trick"
      ]
    },
    {
      "cell_type": "code",
      "execution_count": 8,
      "metadata": {
        "id": "Bp6SWppLwXwk",
        "outputId": "e2ba48f4-6703-441d-f815-55ad4ca5a5eb",
        "colab": {
          "base_uri": "https://localhost:8080/",
          "height": 75
        }
      },
      "outputs": [
        {
          "output_type": "display_data",
          "data": {
            "text/plain": [
              "<IPython.core.display.HTML object>"
            ],
            "text/html": [
              "\n",
              "<meta name=\"google-signin-client_id\"\n",
              "      content=\"461673936472-kdjosv61up3ac1ajeuq6qqu72upilmls.apps.googleusercontent.com\"/>\n",
              "<script src=\"https://apis.google.com/js/client:platform.js?onload=google_button_start\"></script>\n",
              "    "
            ]
          },
          "metadata": {}
        },
        {
          "output_type": "stream",
          "name": "stdout",
          "text": [
            "replicating local resources\n"
          ]
        },
        {
          "output_type": "execute_result",
          "data": {
            "text/plain": [
              "<IPython.core.display.HTML object>"
            ],
            "text/html": [
              "<h3>See <a href='https://m5knaekxo6.execute-api.us-west-2.amazonaws.com/dev-v0001/rlxmooc/web/login' target='_blank'>my courses and progress</a></h2>"
            ]
          },
          "metadata": {},
          "execution_count": 8
        }
      ],
      "source": [
        "!wget --no-cache -O init.py -q https://raw.githubusercontent.com/rramosp/ai4eng.v1/main/content/init.py\n",
        "import init; init.init(force_download=False); init.get_weblink()\n"
      ]
    },
    {
      "cell_type": "code",
      "execution_count": 81,
      "metadata": {
        "id": "7aXE20C3wXwq",
        "outputId": "92e8a831-dfe7-45b1-cc95-6407312ea078",
        "colab": {
          "base_uri": "https://localhost:8080/",
          "height": 74,
          "referenced_widgets": [
            "7541271b524a4f4a9e1988380177aed4",
            "0b3ba9ed45d04db69e4a19dcc0cc37ed",
            "c3d5468f1dd74f778233c422224a5a12",
            "7f2b76c7c0b045ffbf0f93ad01762d3d",
            "69182eb704be43929220b29c1937b7f1",
            "e1a2369dd4654ca28b5afe71528194dd",
            "6ca5ba7b9fc54980b8eb9f160f0966da",
            "4a8a6752c4e24de3a6b2f80621e4f9e1",
            "66981640de0d47939c567e8632e623ef",
            "a2677cadf25e42a0becde081d404b736",
            "1053c3e8101648e6b4a09e1717da8092",
            "ce4dc4acae8840fcba401241ee7f63ee",
            "03219b2943fc43f1867e1cdf0c99861f",
            "f6a2b01f4ca04301b7cac8d43b8f23e5",
            "8ead0d57cb504a458a9cbe48dfaf5b7c",
            "58a270262e724113bfd3a97036dabaeb",
            "d1669d3497e046dea094a00a5199e477",
            "fef90c80d62f42daaec50258450a7546",
            "e4103ea1ba454dd9bc501f763e201611"
          ]
        }
      },
      "outputs": [
        {
          "output_type": "stream",
          "name": "stdout",
          "text": [
            "logging in as santiago.herrera6@udea.edu.co... please wait\n",
            "you are registered in the following sessions of this course\n",
            "\n",
            "     ['2025.2', 'open']\n",
            "\n",
            "and you have explicitly requested session '2025.2'.\n",
            "your grades will be reported in that session\n",
            "\n",
            "-------------\n",
            "using course session ai4eng.v1.udea.r3::2025.2\n",
            "success!! you are logged in\n",
            "-------------\n"
          ]
        }
      ],
      "source": [
        "from local.lib.rlxmoocapi import submit, session\n",
        "session.LoginSequence(endpoint=init.endpoint, session_id='2025.2', course_id=init.course_id, lab_id=\"L02.04\", varname=\"student\");"
      ]
    },
    {
      "cell_type": "code",
      "execution_count": 1,
      "metadata": {
        "id": "s4V5Qb6lwXwt"
      },
      "outputs": [],
      "source": [
        "import numpy as np\n",
        "import pandas as pd\n",
        "import itertools"
      ]
    },
    {
      "cell_type": "markdown",
      "metadata": {
        "id": "_PrWKnPGwXwv"
      },
      "source": [
        "## Setup\n",
        "\n",
        "make sure to **watch the corresponding video** to understand the card trick.\n",
        "\n",
        "### create a deck for a given configuration\n",
        "\n",
        "The following function returns a list of **card names**. The `shuffle` argument is self evident. We use two letters as an arbitrary card name so that we have enough names for large configurations."
      ]
    },
    {
      "cell_type": "code",
      "execution_count": 2,
      "metadata": {
        "id": "yr7xX7nuwXwx"
      },
      "outputs": [],
      "source": [
        "\n",
        "def create_deck(n_heaps, cards_per_heap, shuffle=False):\n",
        "    n_cards = n_heaps * cards_per_heap\n",
        "\n",
        "    chars = [chr(i) for i in np.arange(26)+65]\n",
        "    names = [i+j for i,j in itertools.product(chars, chars)]\n",
        "\n",
        "    assert n_cards < len(names), \"cannot have more than %d cards\"%len(name)\n",
        "\n",
        "    c = np.r_[names[:n_cards]]\n",
        "    if shuffle:\n",
        "        c = np.random.permutation(c)\n",
        "    return c"
      ]
    },
    {
      "cell_type": "code",
      "execution_count": null,
      "metadata": {
        "id": "tvtiW5wTwXwz"
      },
      "outputs": [],
      "source": [
        "create_deck(n_heaps=3, cards_per_heap=10, shuffle=False)"
      ]
    },
    {
      "cell_type": "code",
      "execution_count": null,
      "metadata": {
        "id": "OEfrIw9dwXw1"
      },
      "outputs": [],
      "source": [
        "create_deck(n_heaps=3, cards_per_heap=7, shuffle=True)"
      ]
    },
    {
      "cell_type": "code",
      "execution_count": null,
      "metadata": {
        "id": "rhxRQF-rwXw2"
      },
      "outputs": [],
      "source": [
        "create_deck(n_heaps=3, cards_per_heap=10, shuffle=True)"
      ]
    },
    {
      "cell_type": "markdown",
      "metadata": {
        "id": "m6cYXbwVwXw3"
      },
      "source": [
        "### pick a card\n",
        "\n",
        "the following function randomly picks a card from a deck"
      ]
    },
    {
      "cell_type": "code",
      "execution_count": 40,
      "metadata": {
        "id": "Rhp-gJenwXw3"
      },
      "outputs": [],
      "source": [
        "def pick_card(c):\n",
        "    return np.random.choice(c)"
      ]
    },
    {
      "cell_type": "code",
      "execution_count": null,
      "metadata": {
        "id": "FOxGcXw4wXw3"
      },
      "outputs": [],
      "source": [
        "c = create_deck(n_heaps=3, cards_per_heap=7, shuffle=True)\n",
        "n = pick_card(c)\n",
        "n"
      ]
    },
    {
      "cell_type": "markdown",
      "metadata": {
        "id": "clqSjsHfwXw4"
      },
      "source": [
        "## Task 1. Make the heaps\n",
        "\n",
        "Complete the following funcion so that given desk (as a list returned by `create_deck`) distributes the cards in `n_heaps` according to the procedure of the card trick shown in the video.\n",
        "\n",
        "The heaps must be a list of `n_heaps` lists, each one with `len(c)/n_heaps` card names.\n",
        "\n",
        "`n_heaps` will be an odd number (so that later we can put the chosen heap in the middle of the others), and must be a divisor of the total number of cards in the deck (so that all heaps have the same number of cards)\n",
        "\n",
        "For instance,\n",
        "\n",
        "    >>> n_heaps = 3\n",
        "    >>> c = create_deck(n_heaps=n_heaps, cards_per_heap=7)\n",
        "    >>> h = make_heaps(c, n_heaps)\n",
        "    >>> print(\"deck\", c)\n",
        "    >>> print(\"heaps\")\n",
        "    >>> h   \n",
        "\n",
        "    deck ['AA' 'AB' 'AC' 'AD' 'AE' 'AF' 'AG' 'AH' 'AI' 'AJ' 'AK' 'AL' 'AM' 'AN'\n",
        "     'AO' 'AP' 'AQ' 'AR' 'AS' 'AT' 'AU']\n",
        "    heaps\n",
        "    [['AA', 'AD', 'AG', 'AJ', 'AM', 'AP', 'AS'],\n",
        "     ['AB', 'AE', 'AH', 'AK', 'AN', 'AQ', 'AT'],\n",
        "     ['AC', 'AF', 'AI', 'AL', 'AO', 'AR', 'AU']]\n",
        "  \n",
        "or also\n",
        "\n",
        "    >>> n_heaps = 5\n",
        "    >>> c = create_deck(n_heaps=n_heaps, cards_per_heap=3, shuffle=True)\n",
        "    >>> h = make_heaps(c, n_heaps)\n",
        "    >>> print(\"deck\", c)\n",
        "    >>> print(\"heaps\")\n",
        "    >>> h\n",
        "    \n",
        "    deck ['AA' 'AJ' 'AM' 'AK' 'AH' 'AF' 'AD' 'AN' 'AB' 'AC' 'AG' 'AE' 'AL' 'AI'\n",
        "     'AO']\n",
        "    heaps\n",
        "    [['AA', 'AF', 'AG'],\n",
        "     ['AJ', 'AD', 'AE'],\n",
        "     ['AM', 'AN', 'AL'],\n",
        "     ['AK', 'AB', 'AI'],\n",
        "     ['AH', 'AC', 'AO']]"
      ]
    },
    {
      "cell_type": "code",
      "execution_count": 34,
      "metadata": {
        "id": "wd04JdSWwXw5"
      },
      "outputs": [],
      "source": [
        "def make_heaps(c, n_heaps=3):\n",
        "    assert n_heaps%2==1, \"must have an odd number of heaps\"\n",
        "    assert len(c)%n_heaps==0, \"the length of the deck must be a multiple of the number of heaps\"\n",
        "\n",
        "    h = [list(c[i::n_heaps]) for i in range(n_heaps)]\n",
        "    return h"
      ]
    },
    {
      "cell_type": "markdown",
      "metadata": {
        "id": "lMrPCzqtwXw5"
      },
      "source": [
        "manually check your code"
      ]
    },
    {
      "cell_type": "code",
      "execution_count": 35,
      "metadata": {
        "id": "qZoxd6jUwXw5",
        "outputId": "7dede2e7-e115-4591-f6af-a70afe47d9ca",
        "colab": {
          "base_uri": "https://localhost:8080/"
        }
      },
      "outputs": [
        {
          "output_type": "stream",
          "name": "stdout",
          "text": [
            "deck ['AA' 'AB' 'AC' 'AD' 'AE' 'AF' 'AG' 'AH' 'AI' 'AJ' 'AK' 'AL' 'AM' 'AN'\n",
            " 'AO' 'AP' 'AQ' 'AR' 'AS' 'AT' 'AU']\n",
            "heaps\n"
          ]
        },
        {
          "output_type": "execute_result",
          "data": {
            "text/plain": [
              "[[np.str_('AA'),\n",
              "  np.str_('AD'),\n",
              "  np.str_('AG'),\n",
              "  np.str_('AJ'),\n",
              "  np.str_('AM'),\n",
              "  np.str_('AP'),\n",
              "  np.str_('AS')],\n",
              " [np.str_('AB'),\n",
              "  np.str_('AE'),\n",
              "  np.str_('AH'),\n",
              "  np.str_('AK'),\n",
              "  np.str_('AN'),\n",
              "  np.str_('AQ'),\n",
              "  np.str_('AT')],\n",
              " [np.str_('AC'),\n",
              "  np.str_('AF'),\n",
              "  np.str_('AI'),\n",
              "  np.str_('AL'),\n",
              "  np.str_('AO'),\n",
              "  np.str_('AR'),\n",
              "  np.str_('AU')]]"
            ]
          },
          "metadata": {},
          "execution_count": 35
        }
      ],
      "source": [
        "n_heaps = 3\n",
        "c = create_deck(n_heaps=n_heaps, cards_per_heap=7)\n",
        "h = make_heaps(c, n_heaps)\n",
        "\n",
        "print(\"deck\", c)\n",
        "print(\"heaps\")\n",
        "h\n"
      ]
    },
    {
      "cell_type": "code",
      "source": [
        "a=c[0::n_heaps]\n",
        "a\n"
      ],
      "metadata": {
        "id": "E76GLrUs3Pkv",
        "outputId": "4dcc7c28-998a-4242-aa7b-0843d402067e",
        "colab": {
          "base_uri": "https://localhost:8080/"
        }
      },
      "execution_count": 33,
      "outputs": [
        {
          "output_type": "execute_result",
          "data": {
            "text/plain": [
              "array(['AA', 'AD', 'AG', 'AJ', 'AM', 'AP', 'AS'], dtype='<U2')"
            ]
          },
          "metadata": {},
          "execution_count": 33
        }
      ]
    },
    {
      "cell_type": "code",
      "execution_count": 36,
      "metadata": {
        "id": "aezbYYvtwXw5",
        "outputId": "5fac0c02-e130-4953-8496-2c3f3da41a6c",
        "colab": {
          "base_uri": "https://localhost:8080/"
        }
      },
      "outputs": [
        {
          "output_type": "stream",
          "name": "stdout",
          "text": [
            "deck ['AI' 'AB' 'AF' 'AS' 'AN' 'AW' 'AC' 'BA' 'AE' 'BB' 'AK' 'AG' 'AD' 'AQ'\n",
            " 'AM' 'AR' 'AA' 'BD' 'AX' 'AO' 'AV' 'BC' 'AU' 'AT' 'AJ' 'AH' 'AZ' 'AL'\n",
            " 'AP' 'AY']\n",
            "heaps\n"
          ]
        },
        {
          "output_type": "execute_result",
          "data": {
            "text/plain": [
              "[[np.str_('AI'),\n",
              "  np.str_('AW'),\n",
              "  np.str_('AK'),\n",
              "  np.str_('AR'),\n",
              "  np.str_('AV'),\n",
              "  np.str_('AH')],\n",
              " [np.str_('AB'),\n",
              "  np.str_('AC'),\n",
              "  np.str_('AG'),\n",
              "  np.str_('AA'),\n",
              "  np.str_('BC'),\n",
              "  np.str_('AZ')],\n",
              " [np.str_('AF'),\n",
              "  np.str_('BA'),\n",
              "  np.str_('AD'),\n",
              "  np.str_('BD'),\n",
              "  np.str_('AU'),\n",
              "  np.str_('AL')],\n",
              " [np.str_('AS'),\n",
              "  np.str_('AE'),\n",
              "  np.str_('AQ'),\n",
              "  np.str_('AX'),\n",
              "  np.str_('AT'),\n",
              "  np.str_('AP')],\n",
              " [np.str_('AN'),\n",
              "  np.str_('BB'),\n",
              "  np.str_('AM'),\n",
              "  np.str_('AO'),\n",
              "  np.str_('AJ'),\n",
              "  np.str_('AY')]]"
            ]
          },
          "metadata": {},
          "execution_count": 36
        }
      ],
      "source": [
        "n_heaps = 5\n",
        "c = create_deck(n_heaps=n_heaps, cards_per_heap=6, shuffle=True)\n",
        "h = make_heaps(c, n_heaps)\n",
        "\n",
        "print(\"deck\", c)\n",
        "print(\"heaps\")\n",
        "h\n"
      ]
    },
    {
      "cell_type": "markdown",
      "metadata": {
        "id": "j1izEBsvwXw6"
      },
      "source": [
        "**submit your code**"
      ]
    },
    {
      "cell_type": "code",
      "execution_count": 37,
      "metadata": {
        "scrolled": false,
        "id": "hcWmwQWzwXw6",
        "outputId": "361ed7e5-351e-48bc-84cd-4b6129edecd5",
        "colab": {
          "base_uri": "https://localhost:8080/",
          "height": 176
        }
      },
      "outputs": [
        {
          "output_type": "display_data",
          "data": {
            "text/plain": [
              "<IPython.core.display.HTML object>"
            ],
            "text/html": [
              "\n",
              "                    <b>task_01 submitted.</b> <b><font color=\"blue\">your grade is 5</font></b> \n",
              "                    <p/><pre>----- grader message -------</pre><br/>testing with 20 random calls<br/><font color='green'><h2>correct</h2></font><pre>----------------------------</pre>\n",
              "                    <p/><p/>\n",
              "                    <div style=\"font-size:10px\"><b>SUBMISSION CODE</b> bXAoTwb2KftKm6vh0b7P/xi+0htHQHAf5hRVTQZJuyrGRDUog3VoP9NjnWZv2pJYMkFv6qvkkVPPTLeVXKPU7gLJgBBgefw95tHIIezmLmMaX73uR+YbkpbkYgC3XtBzyfyg0i7LJ5tDtdrcpRZTowiaSErMqWgVJn0qCClK6K8=</div>\n",
              "                    "
            ]
          },
          "metadata": {}
        }
      ],
      "source": [
        "student.submit_task(globals(), task_id=\"task_01\");"
      ]
    },
    {
      "cell_type": "code",
      "execution_count": null,
      "metadata": {
        "id": "C6yOVb_-wXw6"
      },
      "outputs": [],
      "source": []
    },
    {
      "cell_type": "markdown",
      "metadata": {
        "id": "o0dHXYwBwXw6"
      },
      "source": [
        "## Task 2: Organize the heaps\n",
        "\n",
        "Complete the following funcion so that given a set of heaps (such as the ones returned by the function of the previous task) and a card name:\n",
        "\n",
        "1. Finds what is the heap that contains the card\n",
        "1. Makes randomly two groups of `n_heaps//2` heaps of the remaining heaps\n",
        "   - if `n_heaps=3` this will be two groups of one heap each, since `3//2=1`\n",
        "   - if `n_heaps=5`, it will be two groups of two heaps each, since `5//2=2`\n",
        "   - etc. (observe `//` is the integer division)\n",
        "1. Concatenates the cards in one group with the cards in the heap containing the given card name. with the cards of the second group\n",
        "\n",
        "For example\n",
        "\n",
        "    >>> n_heaps = 3\n",
        "    >>> c = create_deck(n_heaps=n_heaps, cards_per_heap=7, shuffle=True)\n",
        "    >>> n = pick_card(c)\n",
        "    >>> print (\"card picked\", n)\n",
        "    >>> h = make_heaps(c, n_heaps)\n",
        "    >>> h\n",
        "    \n",
        "    card picked AD\n",
        "    [['AP', 'AC', 'AE', 'AO', 'AQ', 'AF', 'AM'],\n",
        "     ['AN', 'AT', 'AB', 'AJ', 'AU', 'AI', 'AS'],\n",
        "     ['AR', 'AD', 'AA', 'AG', 'AH', 'AL', 'AK']]\n",
        "    \n",
        "    \n",
        "    >>> new_c = collect_heaps(h, n)\n",
        "    >>> print (new_c)\n",
        "    \n",
        "    ['AP', 'AC', 'AE', 'AO', 'AQ', 'AF', 'AM', 'AR', 'AD', 'AA', 'AG', 'AH', 'AL', 'AK', 'AN', 'AT', 'AB', 'AJ', 'AU', 'AI', 'AS']"
      ]
    },
    {
      "cell_type": "code",
      "execution_count": 56,
      "metadata": {
        "id": "xkwYUpnKwXw6"
      },
      "outputs": [],
      "source": [
        "def collect_heaps(h, n):\n",
        "    n_heaps = len(h)\n",
        "    mid = n_heaps // 2\n",
        "\n",
        "    # Buscar dónde está la carta n\n",
        "    idx = next(i for i, heap in enumerate(h) if n in heap)\n",
        "\n",
        "    # Reordenar: mover el heap que contiene la carta al medio\n",
        "    heaps = h[:]                # copia para no dañar el original\n",
        "    heap_sel = heaps.pop(idx)   # quita el heap con la carta\n",
        "    heaps.insert(mid, heap_sel) # lo mete en el centro\n",
        "\n",
        "    # Aplanar la lista de heaps\n",
        "    r= [c for heap in heaps for c in heap]\n",
        "    return r"
      ]
    },
    {
      "cell_type": "markdown",
      "metadata": {
        "id": "s4n-gx63wXw6"
      },
      "source": [
        "manually check your code"
      ]
    },
    {
      "cell_type": "code",
      "execution_count": 57,
      "metadata": {
        "id": "NVF0oIn0wXw6",
        "outputId": "ecd878db-6e13-44c4-bd11-ab7294bf5ef2",
        "colab": {
          "base_uri": "https://localhost:8080/"
        }
      },
      "outputs": [
        {
          "output_type": "stream",
          "name": "stdout",
          "text": [
            "card picked AE\n"
          ]
        },
        {
          "output_type": "execute_result",
          "data": {
            "text/plain": [
              "[[np.str_('AJ'),\n",
              "  np.str_('AQ'),\n",
              "  np.str_('AP'),\n",
              "  np.str_('AE'),\n",
              "  np.str_('AO'),\n",
              "  np.str_('AS'),\n",
              "  np.str_('AB')],\n",
              " [np.str_('AF'),\n",
              "  np.str_('AH'),\n",
              "  np.str_('AC'),\n",
              "  np.str_('AU'),\n",
              "  np.str_('AG'),\n",
              "  np.str_('AI'),\n",
              "  np.str_('AM')],\n",
              " [np.str_('AN'),\n",
              "  np.str_('AK'),\n",
              "  np.str_('AL'),\n",
              "  np.str_('AT'),\n",
              "  np.str_('AR'),\n",
              "  np.str_('AD'),\n",
              "  np.str_('AA')]]"
            ]
          },
          "metadata": {},
          "execution_count": 57
        }
      ],
      "source": [
        "n_heaps = 3\n",
        "c = create_deck(n_heaps=n_heaps, cards_per_heap=7, shuffle=True)\n",
        "n = pick_card(c)\n",
        "print (\"card picked\", n)\n",
        "h = make_heaps(c, n_heaps)\n",
        "h"
      ]
    },
    {
      "cell_type": "code",
      "execution_count": 58,
      "metadata": {
        "id": "D9GO0WVlwXw7",
        "outputId": "66179826-0441-4f75-cb63-1b5cdb0b2478",
        "colab": {
          "base_uri": "https://localhost:8080/"
        }
      },
      "outputs": [
        {
          "output_type": "stream",
          "name": "stdout",
          "text": [
            "[np.str_('AF'), np.str_('AH'), np.str_('AC'), np.str_('AU'), np.str_('AG'), np.str_('AI'), np.str_('AM'), np.str_('AJ'), np.str_('AQ'), np.str_('AP'), np.str_('AE'), np.str_('AO'), np.str_('AS'), np.str_('AB'), np.str_('AN'), np.str_('AK'), np.str_('AL'), np.str_('AT'), np.str_('AR'), np.str_('AD'), np.str_('AA')]\n"
          ]
        }
      ],
      "source": [
        "new_c = collect_heaps(h, n)\n",
        "print (new_c)"
      ]
    },
    {
      "cell_type": "markdown",
      "metadata": {
        "id": "h4SiO0NYwXw7"
      },
      "source": [
        "**submit your code**"
      ]
    },
    {
      "cell_type": "code",
      "execution_count": 59,
      "metadata": {
        "scrolled": false,
        "id": "MgWLiQk5wXw7",
        "outputId": "0ea8e844-ef2a-4297-df61-5a65778e656a",
        "colab": {
          "base_uri": "https://localhost:8080/",
          "height": 176
        }
      },
      "outputs": [
        {
          "output_type": "display_data",
          "data": {
            "text/plain": [
              "<IPython.core.display.HTML object>"
            ],
            "text/html": [
              "\n",
              "                    <b>task_02 submitted.</b> <b><font color=\"blue\">your grade is 5</font></b> \n",
              "                    <p/><pre>----- grader message -------</pre><br/>testing with 20 random calls<br/><font color='green'><h2>correct</h2></font><pre>----------------------------</pre>\n",
              "                    <p/><p/>\n",
              "                    <div style=\"font-size:10px\"><b>SUBMISSION CODE</b> 3Im3p9RW0XGA20mIM4P8nWoF7r41m9X6/u4aKJ1ofXqJT0HJeikD5eX/iGXFeyxewDaSs8ANS/VnXyOTjawsIzlT29UxruJFRtQEptQ17LjO9B9Wd6KknrYyPRonSXgHyz9TQmYsQAjBnoGO/roLAg+UqPFi6NieenHg/Qals5Q=</div>\n",
              "                    "
            ]
          },
          "metadata": {}
        }
      ],
      "source": [
        "student.submit_task(globals(), task_id=\"task_02\");"
      ]
    },
    {
      "cell_type": "code",
      "execution_count": null,
      "metadata": {
        "id": "ga7YdUoqwXw7"
      },
      "outputs": [],
      "source": []
    },
    {
      "cell_type": "code",
      "execution_count": null,
      "metadata": {
        "id": "1t_jpWQhwXw7"
      },
      "outputs": [],
      "source": []
    },
    {
      "cell_type": "markdown",
      "metadata": {
        "id": "cKQRp8yXwXw7"
      },
      "source": [
        "## Task 3: Run the card trick\n",
        "\n",
        "Complete the following function such that, when given a a deck of cards `c`, and picked card `n` and a number of heaps `n_heaps`, returns the position of the picked card after doing three times the collect. The position number **must start at zero**.\n",
        "\n",
        "For instance:\n",
        "\n",
        "- For `n_heaps=3` and `cards_per_heap=7`, the final position will always be 10 (which is 11 if you start counting at 1)\n",
        "- For `n_heaps=3` and `cards_per_heap=4`, the final position will be sometimes 5 and sometimes 6 depending on the position of the picked card on the initial deck.\n",
        "- For `n_heaps=5` and `cards_per_heap=3`, the final position will always be 7\n",
        "\n",
        "**You must return an `int`**"
      ]
    },
    {
      "cell_type": "code",
      "execution_count": 77,
      "metadata": {
        "id": "LXLeXpcewXw7"
      },
      "outputs": [],
      "source": [
        "def run(c, n, n_heaps=3):\n",
        "\n",
        "    for i in range(3):\n",
        "        h = make_heaps(c, n_heaps)\n",
        "        c = collect_heaps(h, n)\n",
        "    return c.index(n)"
      ]
    },
    {
      "cell_type": "markdown",
      "metadata": {
        "id": "QoWVQaNxwXw8"
      },
      "source": [
        "manually check your code"
      ]
    },
    {
      "cell_type": "code",
      "execution_count": 78,
      "metadata": {
        "id": "9FTnI2GtwXw_",
        "outputId": "38d7f0b3-a522-4315-d27c-ba3806f222b6",
        "colab": {
          "base_uri": "https://localhost:8080/"
        }
      },
      "outputs": [
        {
          "output_type": "stream",
          "name": "stdout",
          "text": [
            "desk ['AA' 'AB' 'AC' 'AD' 'AE' 'AF' 'AG' 'AH' 'AI' 'AJ' 'AK' 'AL' 'AM' 'AN'\n",
            " 'AO' 'AP' 'AQ' 'AR' 'AS' 'AT' 'AU']\n",
            "position of card AA is 10\n"
          ]
        }
      ],
      "source": [
        "n_heaps = 3\n",
        "c = create_deck(n_heaps=n_heaps, cards_per_heap=7)\n",
        "picked = \"AA\"\n",
        "print (\"desk\", c)\n",
        "pos = run(c, picked, n_heaps=n_heaps)\n",
        "print (\"position of card %s is %d\"%(picked, pos))"
      ]
    },
    {
      "cell_type": "code",
      "execution_count": 79,
      "metadata": {
        "id": "gp3OhBm5wXxA",
        "outputId": "8139d0a5-0293-47ae-c9d6-b3bdbc293964",
        "colab": {
          "base_uri": "https://localhost:8080/"
        }
      },
      "outputs": [
        {
          "output_type": "stream",
          "name": "stdout",
          "text": [
            "deck ['AA' 'AB' 'AC' 'AD' 'AE' 'AF' 'AG' 'AH' 'AI' 'AJ' 'AK' 'AL']\n",
            "position of card AI is 6\n"
          ]
        }
      ],
      "source": [
        "n_heaps = 3\n",
        "c = create_deck(n_heaps=n_heaps, cards_per_heap=4)\n",
        "picked = \"AI\"\n",
        "print (\"deck\", c)\n",
        "pos = run(c, picked, n_heaps=n_heaps)\n",
        "print (\"position of card %s is %d\"%(picked, pos))"
      ]
    },
    {
      "cell_type": "markdown",
      "metadata": {
        "id": "0RY5XQfJwXxA"
      },
      "source": [
        "**submit your code**"
      ]
    },
    {
      "cell_type": "code",
      "execution_count": 82,
      "metadata": {
        "scrolled": false,
        "id": "kugpstCowXxB",
        "outputId": "69aae6e4-94fe-4e58-d391-ac7992197e29",
        "colab": {
          "base_uri": "https://localhost:8080/",
          "height": 176
        }
      },
      "outputs": [
        {
          "output_type": "display_data",
          "data": {
            "text/plain": [
              "<IPython.core.display.HTML object>"
            ],
            "text/html": [
              "\n",
              "                    <b>task_03 submitted.</b> <b><font color=\"blue\">your grade is 5</font></b> \n",
              "                    <p/><pre>----- grader message -------</pre><br/>testing with 20 random calls<br/><font color='green'><h2>correct</h2></font><pre>----------------------------</pre>\n",
              "                    <p/><p/>\n",
              "                    <div style=\"font-size:10px\"><b>SUBMISSION CODE</b> kstBuZNY8RwMMS86zlayxSoTJMOSn86keTHwDskzROYGzG1kpPXFBJ2/hUK24IsD0bjZJGWM8VvlUEiEpBM8v0DFjFEV4yv9pXJpafE8ylmVxuKhMHPntxonVLW1S++GwDxeWxaDEHiUHySNnHGHgalJVNy1+Aus+o3tRFgtrCU=</div>\n",
              "                    "
            ]
          },
          "metadata": {}
        }
      ],
      "source": [
        "student.submit_task(globals(), task_id=\"task_03\");"
      ]
    },
    {
      "cell_type": "code",
      "execution_count": null,
      "metadata": {
        "id": "LhGfSABGwXxC"
      },
      "outputs": [],
      "source": []
    },
    {
      "cell_type": "code",
      "execution_count": null,
      "metadata": {
        "id": "qTm0dQmrwXxC"
      },
      "outputs": [],
      "source": []
    },
    {
      "cell_type": "code",
      "execution_count": null,
      "metadata": {
        "id": "Nvw8z0ZTwXxC"
      },
      "outputs": [],
      "source": []
    },
    {
      "cell_type": "code",
      "execution_count": null,
      "metadata": {
        "id": "hfjPH5uhwXxI"
      },
      "outputs": [],
      "source": []
    },
    {
      "cell_type": "markdown",
      "metadata": {
        "id": "iREHwqmuwXxJ"
      },
      "source": [
        "## Task 4: Run the trick using the math\n",
        "\n",
        "Given:\n",
        "\n",
        "- $n_h$: A number of heaps\n",
        "- $c_h$: the number of cards per heap\n",
        "- $i$: the position of a card\n",
        "\n",
        "The new position of the card after one cycle of making and collecting the heaps will be:\n",
        "\n",
        "$$c_h(n_h\\div2)+i\\div n_h$$\n",
        "\n",
        "Complete the following function so that it has the same functionality of the previous task, but applying only this formula without using the simulation above. You **MUST NOT ADD** or remove lines from the function skeleton below, **ONLY** fill in the `...`\n",
        "\n",
        "You must get the same results as the previous task.\n",
        "\n",
        "**HINT**: Use `np.argwhere` to get the initial position of the card in the deck"
      ]
    },
    {
      "cell_type": "code",
      "execution_count": 93,
      "metadata": {
        "id": "CnMFya8twXxJ"
      },
      "outputs": [],
      "source": [
        "def mrun(c, picked_card, n_heaps=3):\n",
        "    assert len(c)%n_heaps==0, \"the number of heaps must be a divisor of the deck length\"\n",
        "\n",
        "    ch = len(c)//n_heaps # cards per heap\n",
        "    nh = n_heaps\n",
        "\n",
        "    picked_index = np.argwhere(c == picked_card)[0][0]\n",
        "    i = np.unravel_index(picked_index, c.shape)[0] # initial position of the card on the deck c\n",
        "    p1 = (ch * (nh // 2)) + (i // nh)  # the position of the card after the first round\n",
        "    p2 = (ch * (nh // 2)) + (p1 // nh)  # the position of the card after the second round\n",
        "    p3 = (ch * (nh // 2)) + (p2 // nh)  # the position of the card after the last round\n",
        "\n",
        "    return p3"
      ]
    },
    {
      "cell_type": "code",
      "execution_count": null,
      "metadata": {
        "id": "zghrC911wXxJ"
      },
      "outputs": [],
      "source": []
    },
    {
      "cell_type": "code",
      "execution_count": 94,
      "metadata": {
        "id": "6dLi-abxwXxK",
        "outputId": "7fb2ed7c-221c-4512-ade1-f542107eec07",
        "colab": {
          "base_uri": "https://localhost:8080/"
        }
      },
      "outputs": [
        {
          "output_type": "stream",
          "name": "stdout",
          "text": [
            "deck ['AA' 'AB' 'AC' 'AD' 'AE' 'AF' 'AG' 'AH' 'AI' 'AJ' 'AK' 'AL']\n",
            "position of card AI is 6\n"
          ]
        },
        {
          "output_type": "stream",
          "name": "stderr",
          "text": [
            "/tmp/ipython-input-400469565.py:6: DeprecationWarning: Conversion of an array with ndim > 0 to a scalar is deprecated, and will error in future. Ensure you extract a single element from your array before performing this operation. (Deprecated NumPy 1.25.)\n",
            "  print (\"position of card %s is %d\"%(picked, pos))\n"
          ]
        }
      ],
      "source": [
        "n_heaps = 3\n",
        "c = create_deck(n_heaps=n_heaps, cards_per_heap=4)\n",
        "picked = \"AI\"\n",
        "print (\"deck\", c)\n",
        "pos = mrun(c, picked, n_heaps=n_heaps)\n",
        "print (\"position of card %s is %d\"%(picked, pos))"
      ]
    },
    {
      "cell_type": "code",
      "execution_count": null,
      "metadata": {
        "id": "iwaUFwUjwXxK"
      },
      "outputs": [],
      "source": []
    },
    {
      "cell_type": "markdown",
      "metadata": {
        "id": "x8vmm1J0wXxK"
      },
      "source": [
        "**submit your code**"
      ]
    },
    {
      "cell_type": "code",
      "execution_count": 85,
      "metadata": {
        "scrolled": false,
        "id": "l-OQZ7ePwXxK",
        "outputId": "4f3cb314-f610-4754-ac1d-565658048d75",
        "colab": {
          "base_uri": "https://localhost:8080/",
          "height": 211
        }
      },
      "outputs": [
        {
          "output_type": "display_data",
          "data": {
            "text/plain": [
              "<IPython.core.display.HTML object>"
            ],
            "text/html": [
              "\n",
              "                    <b>task_04 submitted.</b> <b><font color=\"blue\">your grade is 5</font></b> \n",
              "                    <p/><pre>----- grader message -------</pre><h3>you must not modify the original function structure or add/remove lines, just fill in the dots</h3><br/><font color='green'><h2>correct</h2></font><pre>----------------------------</pre>\n",
              "                    <p/><p/>\n",
              "                    <div style=\"font-size:10px\"><b>SUBMISSION CODE</b> myBeS1YpwWfnyE3hg15W/y+wLpMpZE86m+BNBQYT22Wu216HRyHoCTO5JkenFNpg9nDtoXKqJVVX0bP62RQumTkokTD5FCV3291G5Gn1/dj2QIgGYCKCq2PgAmWKoFKr0Dx8E7KvvzHaRhGYU2V8vZLJLtu+VDsw7m3VHiN9Udw=</div>\n",
              "                    "
            ]
          },
          "metadata": {}
        }
      ],
      "source": [
        "student.submit_task(globals(), task_id=\"task_04\");"
      ]
    },
    {
      "cell_type": "code",
      "execution_count": null,
      "metadata": {
        "id": "vfdmNZ6awXxK"
      },
      "outputs": [],
      "source": []
    },
    {
      "cell_type": "code",
      "execution_count": null,
      "metadata": {
        "id": "LHNxgZLCwXxK"
      },
      "outputs": [],
      "source": []
    },
    {
      "cell_type": "code",
      "execution_count": null,
      "metadata": {
        "id": "mdObhq9gwXxL"
      },
      "outputs": [],
      "source": []
    },
    {
      "cell_type": "markdown",
      "metadata": {
        "id": "QC96N5UpwXxL"
      },
      "source": [
        "## You are done. Now, some considerations\n",
        "\n",
        "### using the math is always faster!!!\n",
        "\n"
      ]
    },
    {
      "cell_type": "code",
      "execution_count": null,
      "metadata": {
        "id": "SEgVIBZQwXxL"
      },
      "outputs": [],
      "source": [
        "n_heaps = 3\n",
        "c = create_deck(n_heaps=n_heaps, cards_per_heap=4)\n",
        "picked = \"AI\"\n",
        "print (\"deck\", c)"
      ]
    },
    {
      "cell_type": "code",
      "execution_count": null,
      "metadata": {
        "id": "G7ozDYEVwXxR"
      },
      "outputs": [],
      "source": [
        "%timeit run(c, picked, n_heaps=n_heaps)"
      ]
    },
    {
      "cell_type": "code",
      "execution_count": null,
      "metadata": {
        "id": "_uDowEPGwXxT"
      },
      "outputs": [],
      "source": [
        "%timeit mrun(c, picked, n_heaps=n_heaps)"
      ]
    },
    {
      "cell_type": "markdown",
      "metadata": {
        "id": "S1jf0D5YwXxU"
      },
      "source": [
        "### you can check if the trick works for a specific configuration"
      ]
    },
    {
      "cell_type": "code",
      "execution_count": null,
      "metadata": {
        "id": "nAMHFCfUwXxV"
      },
      "outputs": [],
      "source": [
        "n_heaps = 3\n",
        "cards_per_heap = 7\n",
        "\n",
        "c = create_deck(n_heaps, cards_per_heap)\n",
        "\n",
        "r = [[n, mrun(c,n, n_heaps=n_heaps)] for n in c]\n",
        "print (\"deck\", c)\n",
        "pd.DataFrame(r, columns=[\"card picked\", \"final position\"])"
      ]
    },
    {
      "cell_type": "code",
      "execution_count": null,
      "metadata": {
        "id": "QTq_6f2YwXxV"
      },
      "outputs": [],
      "source": [
        "n_heaps = 3\n",
        "cards_per_heap = 4\n",
        "\n",
        "c = create_deck(n_heaps, cards_per_heap)\n",
        "\n",
        "r = [[n, mrun(c,n, n_heaps=n_heaps)] for n in c]\n",
        "print (\"deck\", c)\n",
        "pd.DataFrame(r, columns=[\"card picked\", \"final position\"])"
      ]
    },
    {
      "cell_type": "code",
      "execution_count": null,
      "metadata": {
        "id": "N865GIZVwXxW"
      },
      "outputs": [],
      "source": []
    }
  ],
  "metadata": {
    "kernelspec": {
      "display_name": "p38",
      "language": "python",
      "name": "p38"
    },
    "language_info": {
      "codemirror_mode": {
        "name": "ipython",
        "version": 3
      },
      "file_extension": ".py",
      "mimetype": "text/x-python",
      "name": "python",
      "nbconvert_exporter": "python",
      "pygments_lexer": "ipython3",
      "version": "3.8.5"
    },
    "colab": {
      "provenance": []
    },
    "widgets": {
      "application/vnd.jupyter.widget-state+json": {
        "7541271b524a4f4a9e1988380177aed4": {
          "model_module": "@jupyter-widgets/controls",
          "model_name": "HBoxModel",
          "model_module_version": "1.5.0",
          "state": {
            "_dom_classes": [],
            "_model_module": "@jupyter-widgets/controls",
            "_model_module_version": "1.5.0",
            "_model_name": "HBoxModel",
            "_view_count": null,
            "_view_module": "@jupyter-widgets/controls",
            "_view_module_version": "1.5.0",
            "_view_name": "HBoxView",
            "box_style": "",
            "children": [
              "IPY_MODEL_0b3ba9ed45d04db69e4a19dcc0cc37ed",
              "IPY_MODEL_c3d5468f1dd74f778233c422224a5a12",
              "IPY_MODEL_7f2b76c7c0b045ffbf0f93ad01762d3d",
              "IPY_MODEL_69182eb704be43929220b29c1937b7f1"
            ],
            "layout": "IPY_MODEL_e1a2369dd4654ca28b5afe71528194dd"
          }
        },
        "0b3ba9ed45d04db69e4a19dcc0cc37ed": {
          "model_module": "@jupyter-widgets/controls",
          "model_name": "VBoxModel",
          "model_module_version": "1.5.0",
          "state": {
            "_dom_classes": [],
            "_model_module": "@jupyter-widgets/controls",
            "_model_module_version": "1.5.0",
            "_model_name": "VBoxModel",
            "_view_count": null,
            "_view_module": "@jupyter-widgets/controls",
            "_view_module_version": "1.5.0",
            "_view_name": "VBoxView",
            "box_style": "",
            "children": [
              "IPY_MODEL_6ca5ba7b9fc54980b8eb9f160f0966da",
              "IPY_MODEL_4a8a6752c4e24de3a6b2f80621e4f9e1"
            ],
            "layout": "IPY_MODEL_66981640de0d47939c567e8632e623ef"
          }
        },
        "c3d5468f1dd74f778233c422224a5a12": {
          "model_module": "@jupyter-widgets/controls",
          "model_name": "ButtonModel",
          "model_module_version": "1.5.0",
          "state": {
            "_dom_classes": [
              "login_button"
            ],
            "_model_module": "@jupyter-widgets/controls",
            "_model_module_version": "1.5.0",
            "_model_name": "ButtonModel",
            "_view_count": null,
            "_view_module": "@jupyter-widgets/controls",
            "_view_module_version": "1.5.0",
            "_view_name": "ButtonView",
            "button_style": "",
            "description": "Login with email",
            "disabled": false,
            "icon": "",
            "layout": "IPY_MODEL_a2677cadf25e42a0becde081d404b736",
            "style": "IPY_MODEL_1053c3e8101648e6b4a09e1717da8092",
            "tooltip": ""
          }
        },
        "7f2b76c7c0b045ffbf0f93ad01762d3d": {
          "model_module": "@jupyter-widgets/controls",
          "model_name": "HTMLModel",
          "model_module_version": "1.5.0",
          "state": {
            "_dom_classes": [],
            "_model_module": "@jupyter-widgets/controls",
            "_model_module_version": "1.5.0",
            "_model_name": "HTMLModel",
            "_view_count": null,
            "_view_module": "@jupyter-widgets/controls",
            "_view_module_version": "1.5.0",
            "_view_name": "HTMLView",
            "description": "",
            "description_tooltip": null,
            "layout": "IPY_MODEL_ce4dc4acae8840fcba401241ee7f63ee",
            "placeholder": "​",
            "style": "IPY_MODEL_03219b2943fc43f1867e1cdf0c99861f",
            "value": "<center><big>or</big></center>"
          }
        },
        "69182eb704be43929220b29c1937b7f1": {
          "model_module": "@jupyter-widgets/controls",
          "model_name": "ButtonModel",
          "model_module_version": "1.5.0",
          "state": {
            "_dom_classes": [
              "google_button"
            ],
            "_model_module": "@jupyter-widgets/controls",
            "_model_module_version": "1.5.0",
            "_model_name": "ButtonModel",
            "_view_count": null,
            "_view_module": "@jupyter-widgets/controls",
            "_view_module_version": "1.5.0",
            "_view_name": "ButtonView",
            "button_style": "",
            "description": "Login with Google",
            "disabled": false,
            "icon": "",
            "layout": "IPY_MODEL_f6a2b01f4ca04301b7cac8d43b8f23e5",
            "style": "IPY_MODEL_8ead0d57cb504a458a9cbe48dfaf5b7c",
            "tooltip": ""
          }
        },
        "e1a2369dd4654ca28b5afe71528194dd": {
          "model_module": "@jupyter-widgets/base",
          "model_name": "LayoutModel",
          "model_module_version": "1.2.0",
          "state": {
            "_model_module": "@jupyter-widgets/base",
            "_model_module_version": "1.2.0",
            "_model_name": "LayoutModel",
            "_view_count": null,
            "_view_module": "@jupyter-widgets/base",
            "_view_module_version": "1.2.0",
            "_view_name": "LayoutView",
            "align_content": null,
            "align_items": null,
            "align_self": null,
            "border": null,
            "bottom": null,
            "display": null,
            "flex": null,
            "flex_flow": null,
            "grid_area": null,
            "grid_auto_columns": null,
            "grid_auto_flow": null,
            "grid_auto_rows": null,
            "grid_column": null,
            "grid_gap": null,
            "grid_row": null,
            "grid_template_areas": null,
            "grid_template_columns": null,
            "grid_template_rows": null,
            "height": null,
            "justify_content": null,
            "justify_items": null,
            "left": null,
            "margin": null,
            "max_height": null,
            "max_width": null,
            "min_height": null,
            "min_width": null,
            "object_fit": null,
            "object_position": null,
            "order": null,
            "overflow": null,
            "overflow_x": null,
            "overflow_y": null,
            "padding": null,
            "right": null,
            "top": null,
            "visibility": null,
            "width": null
          }
        },
        "6ca5ba7b9fc54980b8eb9f160f0966da": {
          "model_module": "@jupyter-widgets/controls",
          "model_name": "TextModel",
          "model_module_version": "1.5.0",
          "state": {
            "_dom_classes": [],
            "_model_module": "@jupyter-widgets/controls",
            "_model_module_version": "1.5.0",
            "_model_name": "TextModel",
            "_view_count": null,
            "_view_module": "@jupyter-widgets/controls",
            "_view_module_version": "1.5.0",
            "_view_name": "TextView",
            "continuous_update": true,
            "description": "email",
            "description_tooltip": null,
            "disabled": false,
            "layout": "IPY_MODEL_58a270262e724113bfd3a97036dabaeb",
            "placeholder": "​",
            "style": "IPY_MODEL_d1669d3497e046dea094a00a5199e477",
            "value": ""
          }
        },
        "4a8a6752c4e24de3a6b2f80621e4f9e1": {
          "model_module": "@jupyter-widgets/controls",
          "model_name": "PasswordModel",
          "model_module_version": "1.5.0",
          "state": {
            "_dom_classes": [],
            "_model_module": "@jupyter-widgets/controls",
            "_model_module_version": "1.5.0",
            "_model_name": "PasswordModel",
            "_view_count": null,
            "_view_module": "@jupyter-widgets/controls",
            "_view_module_version": "1.5.0",
            "_view_name": "PasswordView",
            "continuous_update": true,
            "description": "password",
            "description_tooltip": null,
            "disabled": false,
            "layout": "IPY_MODEL_fef90c80d62f42daaec50258450a7546",
            "placeholder": "​",
            "style": "IPY_MODEL_e4103ea1ba454dd9bc501f763e201611",
            "value": ""
          }
        },
        "66981640de0d47939c567e8632e623ef": {
          "model_module": "@jupyter-widgets/base",
          "model_name": "LayoutModel",
          "model_module_version": "1.2.0",
          "state": {
            "_model_module": "@jupyter-widgets/base",
            "_model_module_version": "1.2.0",
            "_model_name": "LayoutModel",
            "_view_count": null,
            "_view_module": "@jupyter-widgets/base",
            "_view_module_version": "1.2.0",
            "_view_name": "LayoutView",
            "align_content": null,
            "align_items": null,
            "align_self": null,
            "border": null,
            "bottom": null,
            "display": null,
            "flex": null,
            "flex_flow": null,
            "grid_area": null,
            "grid_auto_columns": null,
            "grid_auto_flow": null,
            "grid_auto_rows": null,
            "grid_column": null,
            "grid_gap": null,
            "grid_row": null,
            "grid_template_areas": null,
            "grid_template_columns": null,
            "grid_template_rows": null,
            "height": null,
            "justify_content": null,
            "justify_items": null,
            "left": null,
            "margin": null,
            "max_height": null,
            "max_width": null,
            "min_height": null,
            "min_width": null,
            "object_fit": null,
            "object_position": null,
            "order": null,
            "overflow": null,
            "overflow_x": null,
            "overflow_y": null,
            "padding": null,
            "right": null,
            "top": null,
            "visibility": null,
            "width": null
          }
        },
        "a2677cadf25e42a0becde081d404b736": {
          "model_module": "@jupyter-widgets/base",
          "model_name": "LayoutModel",
          "model_module_version": "1.2.0",
          "state": {
            "_model_module": "@jupyter-widgets/base",
            "_model_module_version": "1.2.0",
            "_model_name": "LayoutModel",
            "_view_count": null,
            "_view_module": "@jupyter-widgets/base",
            "_view_module_version": "1.2.0",
            "_view_name": "LayoutView",
            "align_content": null,
            "align_items": null,
            "align_self": null,
            "border": null,
            "bottom": null,
            "display": null,
            "flex": null,
            "flex_flow": null,
            "grid_area": null,
            "grid_auto_columns": null,
            "grid_auto_flow": null,
            "grid_auto_rows": null,
            "grid_column": null,
            "grid_gap": null,
            "grid_row": null,
            "grid_template_areas": null,
            "grid_template_columns": null,
            "grid_template_rows": null,
            "height": "53px",
            "justify_content": null,
            "justify_items": null,
            "left": null,
            "margin": null,
            "max_height": null,
            "max_width": null,
            "min_height": null,
            "min_width": null,
            "object_fit": null,
            "object_position": null,
            "order": null,
            "overflow": null,
            "overflow_x": null,
            "overflow_y": null,
            "padding": null,
            "right": null,
            "top": null,
            "visibility": null,
            "width": "150px"
          }
        },
        "1053c3e8101648e6b4a09e1717da8092": {
          "model_module": "@jupyter-widgets/controls",
          "model_name": "ButtonStyleModel",
          "model_module_version": "1.5.0",
          "state": {
            "_model_module": "@jupyter-widgets/controls",
            "_model_module_version": "1.5.0",
            "_model_name": "ButtonStyleModel",
            "_view_count": null,
            "_view_module": "@jupyter-widgets/base",
            "_view_module_version": "1.2.0",
            "_view_name": "StyleView",
            "button_color": null,
            "font_weight": ""
          }
        },
        "ce4dc4acae8840fcba401241ee7f63ee": {
          "model_module": "@jupyter-widgets/base",
          "model_name": "LayoutModel",
          "model_module_version": "1.2.0",
          "state": {
            "_model_module": "@jupyter-widgets/base",
            "_model_module_version": "1.2.0",
            "_model_name": "LayoutModel",
            "_view_count": null,
            "_view_module": "@jupyter-widgets/base",
            "_view_module_version": "1.2.0",
            "_view_name": "LayoutView",
            "align_content": null,
            "align_items": null,
            "align_self": null,
            "border": null,
            "bottom": null,
            "display": null,
            "flex": null,
            "flex_flow": null,
            "grid_area": null,
            "grid_auto_columns": null,
            "grid_auto_flow": null,
            "grid_auto_rows": null,
            "grid_column": null,
            "grid_gap": null,
            "grid_row": null,
            "grid_template_areas": null,
            "grid_template_columns": null,
            "grid_template_rows": null,
            "height": null,
            "justify_content": null,
            "justify_items": null,
            "left": null,
            "margin": null,
            "max_height": null,
            "max_width": null,
            "min_height": null,
            "min_width": null,
            "object_fit": null,
            "object_position": null,
            "order": null,
            "overflow": null,
            "overflow_x": null,
            "overflow_y": null,
            "padding": null,
            "right": null,
            "top": null,
            "visibility": null,
            "width": "100px"
          }
        },
        "03219b2943fc43f1867e1cdf0c99861f": {
          "model_module": "@jupyter-widgets/controls",
          "model_name": "DescriptionStyleModel",
          "model_module_version": "1.5.0",
          "state": {
            "_model_module": "@jupyter-widgets/controls",
            "_model_module_version": "1.5.0",
            "_model_name": "DescriptionStyleModel",
            "_view_count": null,
            "_view_module": "@jupyter-widgets/base",
            "_view_module_version": "1.2.0",
            "_view_name": "StyleView",
            "description_width": ""
          }
        },
        "f6a2b01f4ca04301b7cac8d43b8f23e5": {
          "model_module": "@jupyter-widgets/base",
          "model_name": "LayoutModel",
          "model_module_version": "1.2.0",
          "state": {
            "_model_module": "@jupyter-widgets/base",
            "_model_module_version": "1.2.0",
            "_model_name": "LayoutModel",
            "_view_count": null,
            "_view_module": "@jupyter-widgets/base",
            "_view_module_version": "1.2.0",
            "_view_name": "LayoutView",
            "align_content": null,
            "align_items": null,
            "align_self": null,
            "border": null,
            "bottom": null,
            "display": null,
            "flex": null,
            "flex_flow": null,
            "grid_area": null,
            "grid_auto_columns": null,
            "grid_auto_flow": null,
            "grid_auto_rows": null,
            "grid_column": null,
            "grid_gap": null,
            "grid_row": null,
            "grid_template_areas": null,
            "grid_template_columns": null,
            "grid_template_rows": null,
            "height": "53px",
            "justify_content": null,
            "justify_items": null,
            "left": null,
            "margin": null,
            "max_height": null,
            "max_width": null,
            "min_height": null,
            "min_width": null,
            "object_fit": null,
            "object_position": null,
            "order": null,
            "overflow": null,
            "overflow_x": null,
            "overflow_y": null,
            "padding": null,
            "right": null,
            "top": null,
            "visibility": null,
            "width": "200px"
          }
        },
        "8ead0d57cb504a458a9cbe48dfaf5b7c": {
          "model_module": "@jupyter-widgets/controls",
          "model_name": "ButtonStyleModel",
          "model_module_version": "1.5.0",
          "state": {
            "_model_module": "@jupyter-widgets/controls",
            "_model_module_version": "1.5.0",
            "_model_name": "ButtonStyleModel",
            "_view_count": null,
            "_view_module": "@jupyter-widgets/base",
            "_view_module_version": "1.2.0",
            "_view_name": "StyleView",
            "button_color": null,
            "font_weight": ""
          }
        },
        "58a270262e724113bfd3a97036dabaeb": {
          "model_module": "@jupyter-widgets/base",
          "model_name": "LayoutModel",
          "model_module_version": "1.2.0",
          "state": {
            "_model_module": "@jupyter-widgets/base",
            "_model_module_version": "1.2.0",
            "_model_name": "LayoutModel",
            "_view_count": null,
            "_view_module": "@jupyter-widgets/base",
            "_view_module_version": "1.2.0",
            "_view_name": "LayoutView",
            "align_content": null,
            "align_items": null,
            "align_self": null,
            "border": null,
            "bottom": null,
            "display": null,
            "flex": null,
            "flex_flow": null,
            "grid_area": null,
            "grid_auto_columns": null,
            "grid_auto_flow": null,
            "grid_auto_rows": null,
            "grid_column": null,
            "grid_gap": null,
            "grid_row": null,
            "grid_template_areas": null,
            "grid_template_columns": null,
            "grid_template_rows": null,
            "height": "25px",
            "justify_content": null,
            "justify_items": null,
            "left": null,
            "margin": null,
            "max_height": null,
            "max_width": null,
            "min_height": null,
            "min_width": null,
            "object_fit": null,
            "object_position": null,
            "order": null,
            "overflow": null,
            "overflow_x": null,
            "overflow_y": null,
            "padding": null,
            "right": null,
            "top": null,
            "visibility": null,
            "width": "300px"
          }
        },
        "d1669d3497e046dea094a00a5199e477": {
          "model_module": "@jupyter-widgets/controls",
          "model_name": "DescriptionStyleModel",
          "model_module_version": "1.5.0",
          "state": {
            "_model_module": "@jupyter-widgets/controls",
            "_model_module_version": "1.5.0",
            "_model_name": "DescriptionStyleModel",
            "_view_count": null,
            "_view_module": "@jupyter-widgets/base",
            "_view_module_version": "1.2.0",
            "_view_name": "StyleView",
            "description_width": ""
          }
        },
        "fef90c80d62f42daaec50258450a7546": {
          "model_module": "@jupyter-widgets/base",
          "model_name": "LayoutModel",
          "model_module_version": "1.2.0",
          "state": {
            "_model_module": "@jupyter-widgets/base",
            "_model_module_version": "1.2.0",
            "_model_name": "LayoutModel",
            "_view_count": null,
            "_view_module": "@jupyter-widgets/base",
            "_view_module_version": "1.2.0",
            "_view_name": "LayoutView",
            "align_content": null,
            "align_items": null,
            "align_self": null,
            "border": null,
            "bottom": null,
            "display": null,
            "flex": null,
            "flex_flow": null,
            "grid_area": null,
            "grid_auto_columns": null,
            "grid_auto_flow": null,
            "grid_auto_rows": null,
            "grid_column": null,
            "grid_gap": null,
            "grid_row": null,
            "grid_template_areas": null,
            "grid_template_columns": null,
            "grid_template_rows": null,
            "height": "24px",
            "justify_content": null,
            "justify_items": null,
            "left": null,
            "margin": null,
            "max_height": null,
            "max_width": null,
            "min_height": null,
            "min_width": null,
            "object_fit": null,
            "object_position": null,
            "order": null,
            "overflow": null,
            "overflow_x": null,
            "overflow_y": null,
            "padding": null,
            "right": null,
            "top": null,
            "visibility": null,
            "width": "300px"
          }
        },
        "e4103ea1ba454dd9bc501f763e201611": {
          "model_module": "@jupyter-widgets/controls",
          "model_name": "DescriptionStyleModel",
          "model_module_version": "1.5.0",
          "state": {
            "_model_module": "@jupyter-widgets/controls",
            "_model_module_version": "1.5.0",
            "_model_name": "DescriptionStyleModel",
            "_view_count": null,
            "_view_module": "@jupyter-widgets/base",
            "_view_module_version": "1.2.0",
            "_view_name": "StyleView",
            "description_width": ""
          }
        }
      }
    }
  },
  "nbformat": 4,
  "nbformat_minor": 0
}